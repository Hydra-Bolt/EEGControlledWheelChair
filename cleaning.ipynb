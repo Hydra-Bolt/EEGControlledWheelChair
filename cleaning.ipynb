{
 "cells": [
  {
   "cell_type": "code",
   "execution_count": 6,
   "metadata": {},
   "outputs": [],
   "source": [
    "import pandas as pd\n",
    "import os\n"
   ]
  },
  {
   "cell_type": "code",
   "execution_count": 131,
   "metadata": {},
   "outputs": [],
   "source": [
    "# This code reads in a list of CSV files from the \"./dataset\" directory\n",
    "# and processes them by cleaning up any string columns, converting the\n",
    "# timestamp column to a numerical format, and saving the cleaned-up\n",
    "# data to the \"./processed\" directory\n",
    "\n",
    "datasets = os.listdir(\"./dataset\")\n",
    "\n",
    "for dataset in datasets:\n",
    "    # Read in the CSV file\n",
    "    df = pd.read_csv(f\"./dataset/{dataset}\", header=None, delimiter=\" \")\n",
    "\n",
    "    # Clean up any string columns by removing '[' and ']' characters\n",
    "    for col in df.columns:\n",
    "        if df[col].dtype == 'object':  # Check if column contains strings\n",
    "            df[col] = df[col].str.replace(']', '')\n",
    "            df[col] = df[col].str.replace('[', '')\n",
    "        elif df[col].dtype == 'int64':  # Check if column contains integers\n",
    "            raise ValueError(\"Cannot remove ']' from columns of integer type\")\n",
    "\n",
    "    # Drop the first column, which is not needed\n",
    "    df = df.drop(columns=[0])\n",
    "\n",
    "    # Rename the second and third columns to \"timestamp\" and \"Value\"\n",
    "    df = df.rename(columns={1: 'timestamp', 2: 'Value'})\n",
    "\n",
    "    # Convert the \"timestamp\" column to a timedelta format\n",
    "    df['timestamp'] = pd.to_timedelta(df['timestamp'])\n",
    "\n",
    "    # Convert the timedelta to seconds\n",
    "    df['timestamp'] = (df['timestamp'] - df['timestamp'].iloc[0]).dt.total_seconds()\n",
    "\n",
    "    # Remove any rows where the timestamp is equal to 0\n",
    "    df = df[df['timestamp']//1 != 0]\n",
    "\n",
    "    # Round the timestamp to the nearest 0.001 seconds\n",
    "    df['timestamp'] = round(df[\"timestamp\"]-1, 3)\n",
    "\n",
    "    # Remove any duplicate rows\n",
    "    # df = df.drop_duplicates(subset=['timestamp'])\n",
    "\n",
    "    # Save the cleaned-up data to the \"./processed\" directory\n",
    "    df.to_csv(f\"./processed/{dataset}\", index=False)"
   ]
  },
  {
   "cell_type": "code",
   "execution_count": null,
   "metadata": {},
   "outputs": [],
   "source": []
  },
  {
   "cell_type": "code",
   "execution_count": 132,
   "metadata": {},
   "outputs": [],
   "source": [
    "df = pd.read_csv(\"./processed/backwardb.csv\")\n",
    "\n",
    "index_to_drop = df.index[df['timestamp'] == 57.003][0]\n",
    "\n",
    "# Drop values until the index where 57.029 is encountered\n",
    "df = df.drop(range(index_to_drop))\n",
    "df['timestamp'] = (df['timestamp'] - df['timestamp'].iloc[0])"
   ]
  },
  {
   "cell_type": "code",
   "execution_count": 133,
   "metadata": {},
   "outputs": [],
   "source": [
    "df.to_csv(f\"./processed/backwardb.csv\", index=False, float_format=\"%.3f\")"
   ]
  },
  {
   "cell_type": "code",
   "execution_count": null,
   "metadata": {},
   "outputs": [],
   "source": []
  },
  {
   "cell_type": "code",
   "execution_count": null,
   "metadata": {},
   "outputs": [],
   "source": []
  }
 ],
 "metadata": {
  "kernelspec": {
   "display_name": "Python 3",
   "language": "python",
   "name": "python3"
  },
  "language_info": {
   "codemirror_mode": {
    "name": "ipython",
    "version": 3
   },
   "file_extension": ".py",
   "mimetype": "text/x-python",
   "name": "python",
   "nbconvert_exporter": "python",
   "pygments_lexer": "ipython3",
   "version": "3.10.6"
  }
 },
 "nbformat": 4,
 "nbformat_minor": 2
}
