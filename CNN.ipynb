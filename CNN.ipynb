{
 "cells": [
  {
   "cell_type": "markdown",
   "metadata": {},
   "source": [
    "# Training a convolutional neural network on the model"
   ]
  },
  {
   "cell_type": "markdown",
   "metadata": {},
   "source": [
    "## Importing the libraries"
   ]
  },
  {
   "cell_type": "code",
   "execution_count": 2,
   "metadata": {},
   "outputs": [],
   "source": [
    "import pandas as pd\n",
    "import numpy as np\n",
    "import seaborn as sns\n",
    "import matplotlib.pyplot as plt\n",
    "\n",
    "from sklearn.model_selection import train_test_split\n",
    "from sklearn.preprocessing import StandardScaler\n",
    "from sklearn.metrics import confusion_matrix\n",
    "\n",
    "import tensorflow as tf\n",
    "from tensorflow.keras.models import Sequential\n",
    "from tensorflow.keras.layers import Conv1D, BatchNormalization, LeakyReLU, MaxPool1D, GlobalAveragePooling1D, Dense, Dropout, AveragePooling1D, Flatten, MaxPooling1D \n",
    "from tensorflow.keras.backend import clear_session\n"
   ]
  },
  {
   "cell_type": "markdown",
   "metadata": {},
   "source": [
    "## Importing the Datset"
   ]
  },
  {
   "cell_type": "code",
   "execution_count": 3,
   "metadata": {},
   "outputs": [],
   "source": [
    "# Prepare the data\n",
    "data = pd.read_csv('FinalDataset.csv')\n",
    "\n",
    "# Split features and labels\n",
    "X = data.drop(columns=['Start Timestamp', \"End Timestamp\", 'Label']).values\n",
    "y = data['Label'].values"
   ]
  },
  {
   "cell_type": "markdown",
   "metadata": {},
   "source": [
    "## Our CNN Models"
   ]
  },
  {
   "cell_type": "code",
   "execution_count": 4,
   "metadata": {},
   "outputs": [],
   "source": [
    "# Define the CNN model\n",
    "def CNNModel_1(input_shape, num_classes):\n",
    "    model = Sequential()\n",
    "    \n",
    "    # Convolutional layers\n",
    "    model.add(Conv1D(32, kernel_size=5, activation='relu', input_shape=input_shape))\n",
    "    model.add(MaxPooling1D(pool_size=2))\n",
    "    model.add(Conv1D(64, kernel_size=3, activation='relu'))\n",
    "    model.add(MaxPooling1D(pool_size=2))\n",
    "    model.add(Conv1D(128, kernel_size=3, activation='relu'))\n",
    "    model.add(MaxPooling1D(pool_size=2))\n",
    "    \n",
    "    # Flatten layer\n",
    "    model.add(Flatten())\n",
    "    \n",
    "    # Dense (fully connected) layers\n",
    "    model.add(Dense(128, activation='relu'))\n",
    "    model.add(Dropout(0.5))  # Add dropout for regularization\n",
    "    model.add(Dense(64, activation='relu'))\n",
    "    model.add(Dropout(0.5))  # Add dropout for regularization\n",
    "    model.add(Dense(num_classes, activation='softmax'))  # Output layer\n",
    "    \n",
    "    return model"
   ]
  },
  {
   "cell_type": "code",
   "execution_count": 5,
   "metadata": {},
   "outputs": [],
   "source": [
    "def CNNModel_2(input_shape):\n",
    "    clear_session()\n",
    "    model=Sequential()\n",
    "    model.add(Conv1D(filters=5,kernel_size=3,strides=1,input_shape=input_shape))#1\n",
    "    model.add(BatchNormalization())\n",
    "    model.add(LeakyReLU())\n",
    "    model.add(MaxPool1D(pool_size=2,strides=2))#2\n",
    "    model.add(Conv1D(filters=5,kernel_size=3,strides=1))#3\n",
    "    model.add(LeakyReLU())\n",
    "    model.add(MaxPool1D(pool_size=2,strides=2))#4\n",
    "    model.add(Dropout(0.5))\n",
    "    model.add(Conv1D(filters=5,kernel_size=3,strides=1))#5\n",
    "    model.add(LeakyReLU())\n",
    "    model.add(AveragePooling1D(pool_size=2,strides=2))#6\n",
    "    model.add(Dropout(0.5))\n",
    "    model.add(Conv1D(filters=5,kernel_size=3,strides=1))#7\n",
    "    model.add(LeakyReLU())\n",
    "    model.add(AveragePooling1D(pool_size=2,strides=2))#8\n",
    "    model.add(Conv1D(filters=5,kernel_size=3,strides=1))#9\n",
    "    model.add(LeakyReLU())\n",
    "    model.add(GlobalAveragePooling1D())#10\n",
    "    model.add(Dense(4,activation='sigmoid'))#11\n",
    "    \n",
    "    return model\n"
   ]
  },
  {
   "cell_type": "markdown",
   "metadata": {},
   "source": [
    "## Normalizing the dataset"
   ]
  },
  {
   "cell_type": "code",
   "execution_count": 6,
   "metadata": {},
   "outputs": [],
   "source": [
    "# Normalize the features using StandardScaler\n",
    "scaler = StandardScaler()\n",
    "X = scaler.fit_transform(X)"
   ]
  },
  {
   "cell_type": "markdown",
   "metadata": {},
   "source": [
    "## Proccessing The dataset"
   ]
  },
  {
   "cell_type": "code",
   "execution_count": 7,
   "metadata": {},
   "outputs": [],
   "source": [
    "# Reshape X to match the input shape expected by the CNN model\n",
    "X = X.reshape(-1, 138, 1)\n",
    "\n",
    "# Convert labels to one-hot encoded format\n",
    "num_classes = len(np.unique(y))\n",
    "y = tf.keras.utils.to_categorical(y, num_classes)\n",
    "\n",
    "# Split the dataset into training and testing sets\n",
    "X_train, X_test, y_train, y_test = train_test_split(X, y, test_size=0.2, random_state=42)\n",
    "\n",
    "# Define input shape\n",
    "input_shape = X_train.shape[1:]"
   ]
  },
  {
   "cell_type": "code",
   "execution_count": 8,
   "metadata": {},
   "outputs": [],
   "source": [
    "# Create the CNN model\n",
    "model1 = CNNModel_1(input_shape, num_classes)\n",
    "model2 = CNNModel_2(input_shape)\n"
   ]
  },
  {
   "cell_type": "markdown",
   "metadata": {},
   "source": [
    "## Compiling"
   ]
  },
  {
   "cell_type": "code",
   "execution_count": 9,
   "metadata": {},
   "outputs": [],
   "source": [
    "# Compile the model\n",
    "model1.compile(optimizer='adam', loss='categorical_crossentropy', metrics=['accuracy'])"
   ]
  },
  {
   "cell_type": "code",
   "execution_count": 17,
   "metadata": {},
   "outputs": [],
   "source": [
    "model2.compile('adam',loss='binary_crossentropy',metrics=['accuracy'])"
   ]
  },
  {
   "cell_type": "markdown",
   "metadata": {},
   "source": [
    "## Training"
   ]
  },
  {
   "cell_type": "code",
   "execution_count": 11,
   "metadata": {},
   "outputs": [
    {
     "name": "stdout",
     "output_type": "stream",
     "text": [
      "Epoch 1/50\n",
      "72/72 [==============================] - 2s 10ms/step - loss: 1.3861 - accuracy: 0.2776\n",
      "Epoch 2/50\n",
      "72/72 [==============================] - 1s 13ms/step - loss: 1.3585 - accuracy: 0.3168\n",
      "Epoch 3/50\n",
      "72/72 [==============================] - 1s 12ms/step - loss: 1.3124 - accuracy: 0.3325\n",
      "Epoch 4/50\n",
      "72/72 [==============================] - 1s 11ms/step - loss: 1.2715 - accuracy: 0.3699\n",
      "Epoch 5/50\n",
      "72/72 [==============================] - 1s 10ms/step - loss: 1.2298 - accuracy: 0.4052\n",
      "Epoch 6/50\n",
      "72/72 [==============================] - 1s 12ms/step - loss: 1.1866 - accuracy: 0.4440\n",
      "Epoch 7/50\n",
      "72/72 [==============================] - 1s 13ms/step - loss: 1.1642 - accuracy: 0.4619\n",
      "Epoch 8/50\n",
      "72/72 [==============================] - 1s 12ms/step - loss: 1.1136 - accuracy: 0.4893\n",
      "Epoch 9/50\n",
      "72/72 [==============================] - 1s 10ms/step - loss: 1.0733 - accuracy: 0.5115\n",
      "Epoch 10/50\n",
      "72/72 [==============================] - 1s 12ms/step - loss: 1.0540 - accuracy: 0.5364\n",
      "Epoch 11/50\n",
      "72/72 [==============================] - 1s 9ms/step - loss: 1.0151 - accuracy: 0.5473\n",
      "Epoch 12/50\n",
      "72/72 [==============================] - 1s 11ms/step - loss: 0.9972 - accuracy: 0.5547\n",
      "Epoch 13/50\n",
      "72/72 [==============================] - 1s 10ms/step - loss: 0.9449 - accuracy: 0.5843\n",
      "Epoch 14/50\n",
      "72/72 [==============================] - 1s 8ms/step - loss: 0.9248 - accuracy: 0.6048\n",
      "Epoch 15/50\n",
      "72/72 [==============================] - 1s 9ms/step - loss: 0.8903 - accuracy: 0.6109\n",
      "Epoch 16/50\n",
      "72/72 [==============================] - 1s 10ms/step - loss: 0.8401 - accuracy: 0.6375\n",
      "Epoch 17/50\n",
      "72/72 [==============================] - 1s 10ms/step - loss: 0.8141 - accuracy: 0.6510\n",
      "Epoch 18/50\n",
      "72/72 [==============================] - 1s 10ms/step - loss: 0.7894 - accuracy: 0.6649\n",
      "Epoch 19/50\n",
      "72/72 [==============================] - 1s 11ms/step - loss: 0.7462 - accuracy: 0.6824\n",
      "Epoch 20/50\n",
      "72/72 [==============================] - 1s 10ms/step - loss: 0.7064 - accuracy: 0.6950\n",
      "Epoch 21/50\n",
      "72/72 [==============================] - 1s 11ms/step - loss: 0.6625 - accuracy: 0.7172\n",
      "Epoch 22/50\n",
      "72/72 [==============================] - 1s 10ms/step - loss: 0.6480 - accuracy: 0.7233\n",
      "Epoch 23/50\n",
      "72/72 [==============================] - 1s 10ms/step - loss: 0.6288 - accuracy: 0.7473\n",
      "Epoch 24/50\n",
      "72/72 [==============================] - 1s 13ms/step - loss: 0.5620 - accuracy: 0.7721\n",
      "Epoch 25/50\n",
      "72/72 [==============================] - 1s 9ms/step - loss: 0.5330 - accuracy: 0.7813\n",
      "Epoch 26/50\n",
      "72/72 [==============================] - 1s 10ms/step - loss: 0.4865 - accuracy: 0.8039\n",
      "Epoch 27/50\n",
      "72/72 [==============================] - 1s 9ms/step - loss: 0.4742 - accuracy: 0.8144\n",
      "Epoch 28/50\n",
      "72/72 [==============================] - 1s 9ms/step - loss: 0.4643 - accuracy: 0.8222\n",
      "Epoch 29/50\n",
      "72/72 [==============================] - 1s 10ms/step - loss: 0.4582 - accuracy: 0.8144\n",
      "Epoch 30/50\n",
      "72/72 [==============================] - 1s 8ms/step - loss: 0.4264 - accuracy: 0.8275\n",
      "Epoch 31/50\n",
      "72/72 [==============================] - 1s 9ms/step - loss: 0.3945 - accuracy: 0.8492\n",
      "Epoch 32/50\n",
      "72/72 [==============================] - 1s 9ms/step - loss: 0.3592 - accuracy: 0.8584\n",
      "Epoch 33/50\n",
      "72/72 [==============================] - 1s 9ms/step - loss: 0.3421 - accuracy: 0.8719\n",
      "Epoch 34/50\n",
      "72/72 [==============================] - 1s 9ms/step - loss: 0.3091 - accuracy: 0.8824\n",
      "Epoch 35/50\n",
      "72/72 [==============================] - 1s 11ms/step - loss: 0.3035 - accuracy: 0.8819\n",
      "Epoch 36/50\n",
      "72/72 [==============================] - 1s 9ms/step - loss: 0.3001 - accuracy: 0.8885\n",
      "Epoch 37/50\n",
      "72/72 [==============================] - 1s 8ms/step - loss: 0.2857 - accuracy: 0.8898\n",
      "Epoch 38/50\n",
      "72/72 [==============================] - 1s 9ms/step - loss: 0.2806 - accuracy: 0.8989\n",
      "Epoch 39/50\n",
      "72/72 [==============================] - 1s 9ms/step - loss: 0.2458 - accuracy: 0.9085\n",
      "Epoch 40/50\n",
      "72/72 [==============================] - 1s 9ms/step - loss: 0.2005 - accuracy: 0.9272\n",
      "Epoch 41/50\n",
      "72/72 [==============================] - 1s 9ms/step - loss: 0.2071 - accuracy: 0.9264\n",
      "Epoch 42/50\n",
      "72/72 [==============================] - 1s 9ms/step - loss: 0.2099 - accuracy: 0.9198\n",
      "Epoch 43/50\n",
      "72/72 [==============================] - 1s 10ms/step - loss: 0.1980 - accuracy: 0.9290\n",
      "Epoch 44/50\n",
      "72/72 [==============================] - 1s 10ms/step - loss: 0.1755 - accuracy: 0.9381\n",
      "Epoch 45/50\n",
      "72/72 [==============================] - 1s 10ms/step - loss: 0.1646 - accuracy: 0.9403\n",
      "Epoch 46/50\n",
      "72/72 [==============================] - 1s 10ms/step - loss: 0.1562 - accuracy: 0.9451\n",
      "Epoch 47/50\n",
      "72/72 [==============================] - 1s 10ms/step - loss: 0.1518 - accuracy: 0.9525\n",
      "Epoch 48/50\n",
      "72/72 [==============================] - 1s 8ms/step - loss: 0.2074 - accuracy: 0.9264\n",
      "Epoch 49/50\n",
      "72/72 [==============================] - 1s 8ms/step - loss: 0.1779 - accuracy: 0.9442\n",
      "Epoch 50/50\n",
      "72/72 [==============================] - 1s 10ms/step - loss: 0.1629 - accuracy: 0.9447\n"
     ]
    }
   ],
   "source": [
    "# Train the model\n",
    "history_1 = model1.fit(X_train, y_train, epochs=50, batch_size=32)"
   ]
  },
  {
   "cell_type": "code",
   "execution_count": 24,
   "metadata": {},
   "outputs": [
    {
     "name": "stdout",
     "output_type": "stream",
     "text": [
      "Epoch 1/100\n",
      " 1/72 [..............................] - ETA: 1s - loss: 0.5367 - accuracy: 0.2812"
     ]
    },
    {
     "name": "stdout",
     "output_type": "stream",
     "text": [
      "72/72 [==============================] - 0s 5ms/step - loss: 0.5400 - accuracy: 0.3316\n",
      "Epoch 2/100\n",
      "72/72 [==============================] - 0s 5ms/step - loss: 0.5342 - accuracy: 0.3425\n",
      "Epoch 3/100\n",
      "72/72 [==============================] - 0s 6ms/step - loss: 0.5394 - accuracy: 0.3416\n",
      "Epoch 4/100\n",
      "72/72 [==============================] - 0s 7ms/step - loss: 0.5378 - accuracy: 0.3259\n",
      "Epoch 5/100\n",
      "72/72 [==============================] - 0s 7ms/step - loss: 0.5357 - accuracy: 0.3320\n",
      "Epoch 6/100\n",
      "72/72 [==============================] - 0s 4ms/step - loss: 0.5351 - accuracy: 0.3399\n",
      "Epoch 7/100\n",
      "72/72 [==============================] - 0s 6ms/step - loss: 0.5365 - accuracy: 0.3338\n",
      "Epoch 8/100\n",
      "72/72 [==============================] - 0s 5ms/step - loss: 0.5359 - accuracy: 0.3447\n",
      "Epoch 9/100\n",
      "72/72 [==============================] - 0s 5ms/step - loss: 0.5347 - accuracy: 0.3298\n",
      "Epoch 10/100\n",
      "72/72 [==============================] - 0s 5ms/step - loss: 0.5350 - accuracy: 0.3390\n",
      "Epoch 11/100\n",
      "72/72 [==============================] - 0s 5ms/step - loss: 0.5369 - accuracy: 0.3338\n",
      "Epoch 12/100\n",
      "72/72 [==============================] - 0s 5ms/step - loss: 0.5367 - accuracy: 0.3403\n",
      "Epoch 13/100\n",
      "72/72 [==============================] - 0s 5ms/step - loss: 0.5335 - accuracy: 0.3224\n",
      "Epoch 14/100\n",
      "72/72 [==============================] - 0s 5ms/step - loss: 0.5352 - accuracy: 0.3351\n",
      "Epoch 15/100\n",
      "72/72 [==============================] - 0s 5ms/step - loss: 0.5327 - accuracy: 0.3434\n",
      "Epoch 16/100\n",
      "72/72 [==============================] - 0s 5ms/step - loss: 0.5337 - accuracy: 0.3403\n",
      "Epoch 17/100\n",
      "72/72 [==============================] - 0s 6ms/step - loss: 0.5379 - accuracy: 0.3320\n",
      "Epoch 18/100\n",
      "72/72 [==============================] - 0s 5ms/step - loss: 0.5348 - accuracy: 0.3303\n",
      "Epoch 19/100\n",
      "72/72 [==============================] - 0s 5ms/step - loss: 0.5370 - accuracy: 0.3451\n",
      "Epoch 20/100\n",
      "72/72 [==============================] - 0s 5ms/step - loss: 0.5369 - accuracy: 0.3451\n",
      "Epoch 21/100\n",
      "72/72 [==============================] - 0s 5ms/step - loss: 0.5360 - accuracy: 0.3390\n",
      "Epoch 22/100\n",
      "72/72 [==============================] - 0s 5ms/step - loss: 0.5348 - accuracy: 0.3373\n",
      "Epoch 23/100\n",
      "72/72 [==============================] - 0s 5ms/step - loss: 0.5337 - accuracy: 0.3373\n",
      "Epoch 24/100\n",
      "72/72 [==============================] - 0s 6ms/step - loss: 0.5338 - accuracy: 0.3403\n",
      "Epoch 25/100\n",
      "72/72 [==============================] - 0s 6ms/step - loss: 0.5357 - accuracy: 0.3381\n",
      "Epoch 26/100\n",
      "72/72 [==============================] - 0s 6ms/step - loss: 0.5353 - accuracy: 0.3342\n",
      "Epoch 27/100\n",
      "72/72 [==============================] - 0s 6ms/step - loss: 0.5343 - accuracy: 0.3434\n",
      "Epoch 28/100\n",
      "72/72 [==============================] - 0s 6ms/step - loss: 0.5329 - accuracy: 0.3399\n",
      "Epoch 29/100\n",
      "72/72 [==============================] - 0s 5ms/step - loss: 0.5348 - accuracy: 0.3285\n",
      "Epoch 30/100\n",
      "72/72 [==============================] - 0s 5ms/step - loss: 0.5327 - accuracy: 0.3416\n",
      "Epoch 31/100\n",
      "72/72 [==============================] - 0s 5ms/step - loss: 0.5345 - accuracy: 0.3386\n",
      "Epoch 32/100\n",
      "72/72 [==============================] - 0s 5ms/step - loss: 0.5354 - accuracy: 0.3407\n",
      "Epoch 33/100\n",
      "72/72 [==============================] - 0s 5ms/step - loss: 0.5338 - accuracy: 0.3285\n",
      "Epoch 34/100\n",
      "72/72 [==============================] - 0s 5ms/step - loss: 0.5356 - accuracy: 0.3368\n",
      "Epoch 35/100\n",
      "72/72 [==============================] - 0s 5ms/step - loss: 0.5318 - accuracy: 0.3394\n",
      "Epoch 36/100\n",
      "72/72 [==============================] - 0s 6ms/step - loss: 0.5373 - accuracy: 0.3399\n",
      "Epoch 37/100\n",
      "72/72 [==============================] - 0s 5ms/step - loss: 0.5364 - accuracy: 0.3298\n",
      "Epoch 38/100\n",
      "72/72 [==============================] - 0s 5ms/step - loss: 0.5338 - accuracy: 0.3425\n",
      "Epoch 39/100\n",
      "72/72 [==============================] - 0s 5ms/step - loss: 0.5371 - accuracy: 0.3420\n",
      "Epoch 40/100\n",
      "72/72 [==============================] - 0s 5ms/step - loss: 0.5375 - accuracy: 0.3355\n",
      "Epoch 41/100\n",
      "72/72 [==============================] - 0s 5ms/step - loss: 0.5342 - accuracy: 0.3307\n",
      "Epoch 42/100\n",
      "72/72 [==============================] - 0s 5ms/step - loss: 0.5318 - accuracy: 0.3503\n",
      "Epoch 43/100\n",
      "72/72 [==============================] - 0s 5ms/step - loss: 0.5327 - accuracy: 0.3351\n",
      "Epoch 44/100\n",
      "72/72 [==============================] - 0s 4ms/step - loss: 0.5308 - accuracy: 0.3394\n",
      "Epoch 45/100\n",
      "72/72 [==============================] - 0s 6ms/step - loss: 0.5342 - accuracy: 0.3359\n",
      "Epoch 46/100\n",
      "72/72 [==============================] - 0s 5ms/step - loss: 0.5330 - accuracy: 0.3373\n",
      "Epoch 47/100\n",
      "72/72 [==============================] - 0s 5ms/step - loss: 0.5328 - accuracy: 0.3351\n",
      "Epoch 48/100\n",
      "72/72 [==============================] - 0s 5ms/step - loss: 0.5335 - accuracy: 0.3468\n",
      "Epoch 49/100\n",
      "72/72 [==============================] - 0s 5ms/step - loss: 0.5335 - accuracy: 0.3420\n",
      "Epoch 50/100\n",
      "72/72 [==============================] - 0s 6ms/step - loss: 0.5336 - accuracy: 0.3338\n",
      "Epoch 51/100\n",
      "72/72 [==============================] - 0s 5ms/step - loss: 0.5354 - accuracy: 0.3525\n",
      "Epoch 52/100\n",
      "72/72 [==============================] - 0s 5ms/step - loss: 0.5301 - accuracy: 0.3460\n",
      "Epoch 53/100\n",
      "72/72 [==============================] - 0s 6ms/step - loss: 0.5323 - accuracy: 0.3447\n",
      "Epoch 54/100\n",
      "72/72 [==============================] - 0s 5ms/step - loss: 0.5326 - accuracy: 0.3464\n",
      "Epoch 55/100\n",
      "72/72 [==============================] - 0s 4ms/step - loss: 0.5355 - accuracy: 0.3368\n",
      "Epoch 56/100\n",
      "72/72 [==============================] - 0s 5ms/step - loss: 0.5321 - accuracy: 0.3525\n",
      "Epoch 57/100\n",
      "72/72 [==============================] - 0s 5ms/step - loss: 0.5313 - accuracy: 0.3451\n",
      "Epoch 58/100\n",
      "72/72 [==============================] - 0s 5ms/step - loss: 0.5311 - accuracy: 0.3438\n",
      "Epoch 59/100\n",
      "72/72 [==============================] - 0s 5ms/step - loss: 0.5317 - accuracy: 0.3512\n",
      "Epoch 60/100\n",
      "72/72 [==============================] - 0s 5ms/step - loss: 0.5332 - accuracy: 0.3521\n",
      "Epoch 61/100\n",
      "72/72 [==============================] - 0s 5ms/step - loss: 0.5320 - accuracy: 0.3503\n",
      "Epoch 62/100\n",
      "72/72 [==============================] - 1s 7ms/step - loss: 0.5319 - accuracy: 0.3490\n",
      "Epoch 63/100\n",
      "72/72 [==============================] - 0s 5ms/step - loss: 0.5323 - accuracy: 0.3373\n",
      "Epoch 64/100\n",
      "72/72 [==============================] - 0s 5ms/step - loss: 0.5295 - accuracy: 0.3508\n",
      "Epoch 65/100\n",
      "72/72 [==============================] - 0s 5ms/step - loss: 0.5312 - accuracy: 0.3364\n",
      "Epoch 66/100\n",
      "72/72 [==============================] - 1s 8ms/step - loss: 0.5307 - accuracy: 0.3403\n",
      "Epoch 67/100\n",
      "72/72 [==============================] - 1s 7ms/step - loss: 0.5315 - accuracy: 0.3534\n",
      "Epoch 68/100\n",
      "72/72 [==============================] - 0s 6ms/step - loss: 0.5316 - accuracy: 0.3516\n",
      "Epoch 69/100\n",
      "72/72 [==============================] - 0s 6ms/step - loss: 0.5317 - accuracy: 0.3442\n",
      "Epoch 70/100\n",
      "72/72 [==============================] - 1s 7ms/step - loss: 0.5290 - accuracy: 0.3429\n",
      "Epoch 71/100\n",
      "72/72 [==============================] - 1s 7ms/step - loss: 0.5332 - accuracy: 0.3434\n",
      "Epoch 72/100\n",
      "72/72 [==============================] - 0s 5ms/step - loss: 0.5298 - accuracy: 0.3503\n",
      "Epoch 73/100\n",
      "72/72 [==============================] - 0s 5ms/step - loss: 0.5288 - accuracy: 0.3573\n",
      "Epoch 74/100\n",
      "72/72 [==============================] - 0s 5ms/step - loss: 0.5351 - accuracy: 0.3412\n",
      "Epoch 75/100\n",
      "72/72 [==============================] - 0s 5ms/step - loss: 0.5298 - accuracy: 0.3473\n",
      "Epoch 76/100\n",
      "72/72 [==============================] - 0s 6ms/step - loss: 0.5305 - accuracy: 0.3490\n",
      "Epoch 77/100\n",
      "72/72 [==============================] - 0s 5ms/step - loss: 0.5323 - accuracy: 0.3425\n",
      "Epoch 78/100\n",
      "72/72 [==============================] - 0s 5ms/step - loss: 0.5327 - accuracy: 0.3364\n",
      "Epoch 79/100\n",
      "72/72 [==============================] - 0s 5ms/step - loss: 0.5313 - accuracy: 0.3490\n",
      "Epoch 80/100\n",
      "72/72 [==============================] - 0s 5ms/step - loss: 0.5345 - accuracy: 0.3425\n",
      "Epoch 81/100\n",
      "72/72 [==============================] - 0s 5ms/step - loss: 0.5310 - accuracy: 0.3547\n",
      "Epoch 82/100\n",
      "72/72 [==============================] - 0s 5ms/step - loss: 0.5308 - accuracy: 0.3460\n",
      "Epoch 83/100\n",
      "72/72 [==============================] - 0s 5ms/step - loss: 0.5303 - accuracy: 0.3285\n",
      "Epoch 84/100\n",
      "72/72 [==============================] - 0s 5ms/step - loss: 0.5331 - accuracy: 0.3508\n",
      "Epoch 85/100\n",
      "72/72 [==============================] - 0s 6ms/step - loss: 0.5322 - accuracy: 0.3386\n",
      "Epoch 86/100\n",
      "72/72 [==============================] - 0s 6ms/step - loss: 0.5329 - accuracy: 0.3499\n",
      "Epoch 87/100\n",
      "72/72 [==============================] - 1s 8ms/step - loss: 0.5296 - accuracy: 0.3442\n",
      "Epoch 88/100\n",
      "72/72 [==============================] - 0s 5ms/step - loss: 0.5325 - accuracy: 0.3481\n",
      "Epoch 89/100\n",
      "72/72 [==============================] - 0s 5ms/step - loss: 0.5278 - accuracy: 0.3447\n",
      "Epoch 90/100\n",
      "72/72 [==============================] - 0s 6ms/step - loss: 0.5308 - accuracy: 0.3542\n",
      "Epoch 91/100\n",
      "72/72 [==============================] - 0s 5ms/step - loss: 0.5316 - accuracy: 0.3490\n",
      "Epoch 92/100\n",
      "72/72 [==============================] - 0s 5ms/step - loss: 0.5307 - accuracy: 0.3399\n",
      "Epoch 93/100\n",
      "72/72 [==============================] - 0s 6ms/step - loss: 0.5303 - accuracy: 0.3495\n",
      "Epoch 94/100\n",
      "72/72 [==============================] - 0s 5ms/step - loss: 0.5323 - accuracy: 0.3416\n",
      "Epoch 95/100\n",
      "72/72 [==============================] - 0s 5ms/step - loss: 0.5283 - accuracy: 0.3556\n",
      "Epoch 96/100\n",
      "72/72 [==============================] - 0s 5ms/step - loss: 0.5344 - accuracy: 0.3529\n",
      "Epoch 97/100\n",
      "72/72 [==============================] - 0s 5ms/step - loss: 0.5306 - accuracy: 0.3521\n",
      "Epoch 98/100\n",
      "72/72 [==============================] - 0s 5ms/step - loss: 0.5278 - accuracy: 0.3499\n",
      "Epoch 99/100\n",
      "72/72 [==============================] - 0s 5ms/step - loss: 0.5283 - accuracy: 0.3499\n",
      "Epoch 100/100\n",
      "72/72 [==============================] - 0s 5ms/step - loss: 0.5325 - accuracy: 0.3420\n"
     ]
    }
   ],
   "source": [
    "# Train the model\n",
    "history_2 = model2.fit(X_train, y_train, epochs=100, batch_size=32)"
   ]
  },
  {
   "cell_type": "code",
   "execution_count": 25,
   "metadata": {},
   "outputs": [
    {
     "name": "stdout",
     "output_type": "stream",
     "text": [
      " 1/18 [>.............................] - ETA: 0s - loss: 3.1018 - accuracy: 0.3750"
     ]
    },
    {
     "name": "stdout",
     "output_type": "stream",
     "text": [
      "18/18 [==============================] - 0s 5ms/step - loss: 2.5050 - accuracy: 0.5662\n",
      "Model 1: \n",
      " Test Loss: 2.5049562454223633, Test Accuracy: 0.5662021040916443\n",
      "18/18 [==============================] - 0s 2ms/step - loss: 0.5193 - accuracy: 0.3659\n",
      "Model 2: \n",
      " Test Loss: 0.5193421840667725, Test Accuracy: 0.3658536672592163\n"
     ]
    }
   ],
   "source": [
    "# Evaluate the model on the test set\n",
    "loss, accuracy = model1.evaluate(X_test, y_test)\n",
    "print(f'Model 1: \\n Test Loss: {loss}, Test Accuracy: {accuracy}')\n",
    "# Evaluate the model on the test set\n",
    "loss, accuracy = model2.evaluate(X_test, y_test)\n",
    "print(f'Model 2: \\n Test Loss: {loss}, Test Accuracy: {accuracy}')\n"
   ]
  },
  {
   "cell_type": "code",
   "execution_count": 26,
   "metadata": {},
   "outputs": [
    {
     "name": "stdout",
     "output_type": "stream",
     "text": [
      "18/18 [==============================] - 0s 8ms/step\n",
      "18/18 [==============================] - 0s 3ms/step\n"
     ]
    }
   ],
   "source": [
    "# Predict the labels for the test set\n",
    "y_pred_1 = np.argmax(model1.predict(X_test), axis=-1)\n",
    "y_pred_2 = np.argmax(model2.predict(X_test), axis=-1)"
   ]
  },
  {
   "cell_type": "markdown",
   "metadata": {},
   "source": [
    "### Plotting the Confusion matrix"
   ]
  },
  {
   "cell_type": "code",
   "execution_count": 27,
   "metadata": {},
   "outputs": [],
   "source": [
    "# Plot confusion matrix\n",
    "cm_1 = confusion_matrix(np.argmax(y_test, axis=-1), y_pred_1)\n",
    "cm_2 = confusion_matrix(np.argmax(y_test, axis=-1), y_pred_2)"
   ]
  },
  {
   "cell_type": "code",
   "execution_count": 28,
   "metadata": {},
   "outputs": [
    {
     "data": {
      "image/png": "[encoded data removed]",
      "text/plain": [
       "<Figure size 2000x800 with 2 Axes>"
      ]
     },
     "metadata": {},
     "output_type": "display_data"
    }
   ],
   "source": [
    "# Plot confusion matrices side by side\n",
    "fig, axes = plt.subplots(1, 2, figsize=(20, 8))\n",
    "\n",
    "# Plot confusion matrix for model 1\n",
    "sns.heatmap(cm_1, annot=True, fmt='d', cmap='Blues', cbar=False, ax=axes[0])\n",
    "axes[0].set_xlabel('Predicted Labels')\n",
    "axes[0].set_ylabel('True Labels')\n",
    "axes[0].set_title('Confusion Matrix - Model 1')\n",
    "\n",
    "# Plot confusion matrix for model 2\n",
    "sns.heatmap(cm_2, annot=True, fmt='d', cmap='Blues', cbar=False, ax=axes[1])\n",
    "axes[1].set_xlabel('Predicted Labels')\n",
    "axes[1].set_ylabel('True Labels')\n",
    "axes[1].set_title('Confusion Matrix - Model 2')\n",
    "\n",
    "plt.tight_layout()\n",
    "plt.show()\n"
   ]
  },
  {
   "cell_type": "code",
   "execution_count": null,
   "metadata": {},
   "outputs": [],
   "source": []
  }
 ],
 "metadata": {
  "kernelspec": {
   "display_name": "Python 3",
   "language": "python",
   "name": "python3"
  },
  "language_info": {
   "codemirror_mode": {
    "name": "ipython",
    "version": 3
   },
   "file_extension": ".py",
   "mimetype": "text/x-python",
   "name": "python",
   "nbconvert_exporter": "python",
   "pygments_lexer": "ipython3",
   "version": "3.10.6"
  }
 },
 "nbformat": 4,
 "nbformat_minor": 2
}
