{
 "cells": [
  {
   "cell_type": "markdown",
   "metadata": {},
   "source": [
    "# Training a convolutional neural network on the model"
   ]
  },
  {
   "cell_type": "markdown",
   "metadata": {},
   "source": [
    "## Importing the libraries"
   ]
  },
  {
   "cell_type": "code",
   "execution_count": 1,
   "metadata": {},
   "outputs": [],
   "source": [
    "import pandas as pd\n",
    "import numpy as np\n",
    "import seaborn as sns\n",
    "import matplotlib.pyplot as plt\n",
    "\n",
    "from sklearn.model_selection import train_test_split\n",
    "from sklearn.preprocessing import StandardScaler\n",
    "from sklearn.metrics import confusion_matrix\n",
    "\n",
    "import tensorflow as tf\n",
    "from tensorflow.keras.models import Sequential\n",
    "from tensorflow.keras.layers import Conv1D, BatchNormalization, LeakyReLU, MaxPool1D, GlobalAveragePooling1D, Dense, Dropout, AveragePooling1D, Flatten, MaxPooling1D \n",
    "from tensorflow.keras.backend import clear_session\n"
   ]
  },
  {
   "cell_type": "markdown",
   "metadata": {},
   "source": [
    "## Importing the Datset"
   ]
  },
  {
   "cell_type": "code",
   "execution_count": 2,
   "metadata": {},
   "outputs": [],
   "source": [
    "# Prepare the data\n",
    "data = pd.read_csv('FinalDataset.csv')\n",
    "\n",
    "# Split features and labels\n",
    "X = data.drop(columns=['Label'])\n",
    "y = data['Label']"
   ]
  },
  {
   "cell_type": "code",
   "execution_count": 3,
   "metadata": {},
   "outputs": [
    {
     "data": {
      "text/plain": [
       "array([0, 1, 2], dtype=int64)"
      ]
     },
     "execution_count": 3,
     "metadata": {},
     "output_type": "execute_result"
    }
   ],
   "source": [
    "np.unique(y)"
   ]
  },
  {
   "cell_type": "markdown",
   "metadata": {},
   "source": [
    "## Our CNN Models"
   ]
  },
  {
   "cell_type": "code",
   "execution_count": 4,
   "metadata": {},
   "outputs": [],
   "source": [
    "# Define the CNN model\n",
    "def CNNModel_1(input_shape, num_classes):\n",
    "    model = Sequential()\n",
    "    \n",
    "    # Convolutional layers\n",
    "    model.add(Conv1D(32, kernel_size=5, activation='relu', input_shape=input_shape))\n",
    "    model.add(MaxPooling1D(pool_size=2))\n",
    "    model.add(Conv1D(64, kernel_size=3, activation='relu'))\n",
    "    model.add(MaxPooling1D(pool_size=2))\n",
    "    model.add(Conv1D(128, kernel_size=3, activation='relu'))\n",
    "    model.add(MaxPooling1D(pool_size=2))\n",
    "    \n",
    "    # Flatten layer\n",
    "    model.add(Flatten())\n",
    "    \n",
    "    # Dense (fully connected) layers\n",
    "    model.add(Dense(128, activation='relu'))\n",
    "    model.add(Dropout(0.5))  # Add dropout for regularization\n",
    "    model.add(Dense(64, activation='relu'))\n",
    "    model.add(Dropout(0.5))  # Add dropout for regularization\n",
    "    model.add(Dense(num_classes, activation='softmax'))  # Output layer\n",
    "    \n",
    "    return model"
   ]
  },
  {
   "cell_type": "code",
   "execution_count": 5,
   "metadata": {},
   "outputs": [],
   "source": [
    "def CNNModel_2(input_shape):\n",
    "    clear_session()\n",
    "    model=Sequential()\n",
    "    model.add(Conv1D(filters=5,kernel_size=3,strides=1,input_shape=input_shape))#1\n",
    "    model.add(BatchNormalization())\n",
    "    model.add(LeakyReLU())\n",
    "    model.add(MaxPool1D(pool_size=2,strides=2))#2\n",
    "    model.add(Conv1D(filters=5,kernel_size=3,strides=1))#3\n",
    "    model.add(LeakyReLU())\n",
    "    model.add(MaxPool1D(pool_size=2,strides=2))#4\n",
    "    model.add(Dropout(0.5))\n",
    "    model.add(Conv1D(filters=5,kernel_size=3,strides=1))#5\n",
    "    model.add(LeakyReLU())\n",
    "    model.add(AveragePooling1D(pool_size=2,strides=2))#6\n",
    "    model.add(Dropout(0.5))\n",
    "    model.add(Conv1D(filters=5,kernel_size=3,strides=1))#7\n",
    "    model.add(LeakyReLU())\n",
    "    model.add(AveragePooling1D(pool_size=2,strides=2))#8\n",
    "    model.add(Conv1D(filters=5,kernel_size=3,strides=1))#9\n",
    "    model.add(LeakyReLU())\n",
    "    model.add(GlobalAveragePooling1D())#10\n",
    "    model.add(Dense(3,activation='sigmoid'))#11\n",
    "    \n",
    "    return model\n"
   ]
  },
  {
   "cell_type": "code",
   "execution_count": 6,
   "metadata": {},
   "outputs": [
    {
     "data": {
      "text/plain": [
       "array([0, 1, 2], dtype=int64)"
      ]
     },
     "execution_count": 6,
     "metadata": {},
     "output_type": "execute_result"
    }
   ],
   "source": [
    "np.unique(y)"
   ]
  },
  {
   "cell_type": "markdown",
   "metadata": {},
   "source": [
    "## Normalizing the dataset"
   ]
  },
  {
   "cell_type": "code",
   "execution_count": 7,
   "metadata": {},
   "outputs": [],
   "source": [
    "# Normalize the features using StandardScaler\n",
    "scaler = StandardScaler()\n",
    "X = scaler.fit_transform(X)"
   ]
  },
  {
   "cell_type": "code",
   "execution_count": 8,
   "metadata": {},
   "outputs": [
    {
     "data": {
      "text/plain": [
       "array([0, 1, 2], dtype=int64)"
      ]
     },
     "execution_count": 8,
     "metadata": {},
     "output_type": "execute_result"
    }
   ],
   "source": [
    "np.unique(y)"
   ]
  },
  {
   "cell_type": "markdown",
   "metadata": {},
   "source": [
    "## Proccessing The dataset"
   ]
  },
  {
   "cell_type": "code",
   "execution_count": 9,
   "metadata": {},
   "outputs": [],
   "source": [
    "# Reshape X to match the input shape expected by the CNN model\n",
    "X = X.reshape(-1, 146, 1)\n",
    "\n",
    "# Convert labels to one-hot encoded format\n",
    "num_classes = len(np.unique(y))\n",
    "\n",
    "y = tf.keras.utils.to_categorical(y, num_classes)\n",
    "\n",
    "# Split the dataset into training and testing sets\n",
    "X_train, X_test, y_train, y_test = train_test_split(X, y, test_size=0.2, random_state=42)\n",
    "\n",
    "# Define input shape\n",
    "input_shape = X_train.shape[1:]"
   ]
  },
  {
   "cell_type": "code",
   "execution_count": 10,
   "metadata": {},
   "outputs": [
    {
     "data": {
      "text/plain": [
       "array([[1., 0., 0.],\n",
       "       [1., 0., 0.],\n",
       "       [1., 0., 0.],\n",
       "       ...,\n",
       "       [0., 0., 1.],\n",
       "       [0., 0., 1.],\n",
       "       [0., 0., 1.]], dtype=float32)"
      ]
     },
     "execution_count": 10,
     "metadata": {},
     "output_type": "execute_result"
    }
   ],
   "source": [
    "y"
   ]
  },
  {
   "cell_type": "code",
   "execution_count": 11,
   "metadata": {},
   "outputs": [
    {
     "data": {
      "text/plain": [
       "3"
      ]
     },
     "execution_count": 11,
     "metadata": {},
     "output_type": "execute_result"
    }
   ],
   "source": [
    "num_classes"
   ]
  },
  {
   "cell_type": "code",
   "execution_count": 12,
   "metadata": {},
   "outputs": [],
   "source": [
    "# Create the CNN model\n",
    "model1 = CNNModel_1(input_shape, num_classes)\n",
    "model2 = CNNModel_2(input_shape)\n"
   ]
  },
  {
   "cell_type": "markdown",
   "metadata": {},
   "source": [
    "## Compiling"
   ]
  },
  {
   "cell_type": "code",
   "execution_count": 13,
   "metadata": {},
   "outputs": [],
   "source": [
    "# Compile the model\n",
    "model1.compile(optimizer='adam', loss='categorical_crossentropy', metrics=['accuracy'])"
   ]
  },
  {
   "cell_type": "code",
   "execution_count": 14,
   "metadata": {},
   "outputs": [],
   "source": [
    "model2.compile('adam',loss='binary_crossentropy',metrics=['accuracy'])"
   ]
  },
  {
   "cell_type": "markdown",
   "metadata": {},
   "source": [
    "## Training"
   ]
  },
  {
   "cell_type": "code",
   "execution_count": 15,
   "metadata": {},
   "outputs": [
    {
     "name": "stdout",
     "output_type": "stream",
     "text": [
      "Epoch 1/50\n",
      "325/325 [==============================] - 11s 27ms/step - loss: 1.0927 - accuracy: 0.3563\n",
      "Epoch 2/50\n",
      "325/325 [==============================] - 10s 30ms/step - loss: 1.0615 - accuracy: 0.3983\n",
      "Epoch 3/50\n",
      "325/325 [==============================] - 8s 25ms/step - loss: 1.0372 - accuracy: 0.4125\n",
      "Epoch 4/50\n",
      "325/325 [==============================] - 7s 23ms/step - loss: 1.0178 - accuracy: 0.4432\n",
      "Epoch 5/50\n",
      "325/325 [==============================] - 7s 22ms/step - loss: 0.9971 - accuracy: 0.4551\n",
      "Epoch 6/50\n",
      "325/325 [==============================] - 7s 23ms/step - loss: 0.9716 - accuracy: 0.4889\n",
      "Epoch 7/50\n",
      "325/325 [==============================] - 7s 23ms/step - loss: 0.9494 - accuracy: 0.5030\n",
      "Epoch 8/50\n",
      "325/325 [==============================] - 7s 23ms/step - loss: 0.9274 - accuracy: 0.5234\n",
      "Epoch 9/50\n",
      "325/325 [==============================] - 7s 22ms/step - loss: 0.9043 - accuracy: 0.5431\n",
      "Epoch 10/50\n",
      "325/325 [==============================] - 7s 23ms/step - loss: 0.8879 - accuracy: 0.5545\n",
      "Epoch 11/50\n",
      "325/325 [==============================] - 8s 24ms/step - loss: 0.8656 - accuracy: 0.5680\n",
      "Epoch 12/50\n",
      "325/325 [==============================] - 7s 23ms/step - loss: 0.8426 - accuracy: 0.5855\n",
      "Epoch 13/50\n",
      "325/325 [==============================] - 7s 22ms/step - loss: 0.8262 - accuracy: 0.5906\n",
      "Epoch 14/50\n",
      "325/325 [==============================] - 7s 22ms/step - loss: 0.7993 - accuracy: 0.6119\n",
      "Epoch 15/50\n",
      "325/325 [==============================] - 7s 22ms/step - loss: 0.7790 - accuracy: 0.6277\n",
      "Epoch 16/50\n",
      "325/325 [==============================] - 7s 22ms/step - loss: 0.7572 - accuracy: 0.6304\n",
      "Epoch 17/50\n",
      "325/325 [==============================] - 7s 23ms/step - loss: 0.7362 - accuracy: 0.6446\n",
      "Epoch 18/50\n",
      "325/325 [==============================] - 7s 22ms/step - loss: 0.7065 - accuracy: 0.6654\n",
      "Epoch 19/50\n",
      "325/325 [==============================] - 7s 22ms/step - loss: 0.6825 - accuracy: 0.6753\n",
      "Epoch 20/50\n",
      "325/325 [==============================] - 7s 23ms/step - loss: 0.6697 - accuracy: 0.6916\n",
      "Epoch 21/50\n",
      "325/325 [==============================] - 9s 27ms/step - loss: 0.6463 - accuracy: 0.6950\n",
      "Epoch 22/50\n",
      "325/325 [==============================] - 8s 24ms/step - loss: 0.6250 - accuracy: 0.7077\n",
      "Epoch 23/50\n",
      "325/325 [==============================] - 7s 23ms/step - loss: 0.6016 - accuracy: 0.7224\n",
      "Epoch 24/50\n",
      "325/325 [==============================] - 7s 22ms/step - loss: 0.5914 - accuracy: 0.7240\n",
      "Epoch 25/50\n",
      "325/325 [==============================] - 8s 23ms/step - loss: 0.5816 - accuracy: 0.7307\n",
      "Epoch 26/50\n",
      "325/325 [==============================] - 7s 23ms/step - loss: 0.5637 - accuracy: 0.7382\n",
      "Epoch 27/50\n",
      "325/325 [==============================] - 7s 23ms/step - loss: 0.5531 - accuracy: 0.7435\n",
      "Epoch 28/50\n",
      "325/325 [==============================] - 7s 22ms/step - loss: 0.5241 - accuracy: 0.7550\n",
      "Epoch 29/50\n",
      "325/325 [==============================] - 7s 21ms/step - loss: 0.5305 - accuracy: 0.7585\n",
      "Epoch 30/50\n",
      "325/325 [==============================] - 8s 23ms/step - loss: 0.5145 - accuracy: 0.7641\n",
      "Epoch 31/50\n",
      "325/325 [==============================] - 7s 23ms/step - loss: 0.5126 - accuracy: 0.7686\n",
      "Epoch 32/50\n",
      "325/325 [==============================] - 7s 22ms/step - loss: 0.4988 - accuracy: 0.7737\n",
      "Epoch 33/50\n",
      "325/325 [==============================] - 7s 21ms/step - loss: 0.4873 - accuracy: 0.7779\n",
      "Epoch 34/50\n",
      "325/325 [==============================] - 8s 23ms/step - loss: 0.4677 - accuracy: 0.7899\n",
      "Epoch 35/50\n",
      "188/325 [================>.............] - ETA: 3s - loss: 0.4709 - accuracy: 0.7894"
     ]
    },
    {
     "ename": "KeyboardInterrupt",
     "evalue": "",
     "output_type": "error",
     "traceback": [
      "\u001b[1;31m---------------------------------------------------------------------------\u001b[0m",
      "\u001b[1;31mKeyboardInterrupt\u001b[0m                         Traceback (most recent call last)",
      "Cell \u001b[1;32mIn[15], line 2\u001b[0m\n\u001b[0;32m      1\u001b[0m \u001b[38;5;66;03m# Train the model\u001b[39;00m\n\u001b[1;32m----> 2\u001b[0m history_1 \u001b[38;5;241m=\u001b[39m \u001b[43mmodel1\u001b[49m\u001b[38;5;241;43m.\u001b[39;49m\u001b[43mfit\u001b[49m\u001b[43m(\u001b[49m\u001b[43mX_train\u001b[49m\u001b[43m,\u001b[49m\u001b[43m \u001b[49m\u001b[43my_train\u001b[49m\u001b[43m,\u001b[49m\u001b[43m \u001b[49m\u001b[43mepochs\u001b[49m\u001b[38;5;241;43m=\u001b[39;49m\u001b[38;5;241;43m50\u001b[39;49m\u001b[43m,\u001b[49m\u001b[43m \u001b[49m\u001b[43mbatch_size\u001b[49m\u001b[38;5;241;43m=\u001b[39;49m\u001b[38;5;241;43m32\u001b[39;49m\u001b[43m)\u001b[49m\n",
      "File \u001b[1;32mc:\\Users\\PMLS\\AppData\\Local\\Programs\\Python\\Python310\\lib\\site-packages\\keras\\src\\utils\\traceback_utils.py:65\u001b[0m, in \u001b[0;36mfilter_traceback.<locals>.error_handler\u001b[1;34m(*args, **kwargs)\u001b[0m\n\u001b[0;32m     63\u001b[0m filtered_tb \u001b[38;5;241m=\u001b[39m \u001b[38;5;28;01mNone\u001b[39;00m\n\u001b[0;32m     64\u001b[0m \u001b[38;5;28;01mtry\u001b[39;00m:\n\u001b[1;32m---> 65\u001b[0m     \u001b[38;5;28;01mreturn\u001b[39;00m fn(\u001b[38;5;241m*\u001b[39margs, \u001b[38;5;241m*\u001b[39m\u001b[38;5;241m*\u001b[39mkwargs)\n\u001b[0;32m     66\u001b[0m \u001b[38;5;28;01mexcept\u001b[39;00m \u001b[38;5;167;01mException\u001b[39;00m \u001b[38;5;28;01mas\u001b[39;00m e:\n\u001b[0;32m     67\u001b[0m     filtered_tb \u001b[38;5;241m=\u001b[39m _process_traceback_frames(e\u001b[38;5;241m.\u001b[39m__traceback__)\n",
      "File \u001b[1;32mc:\\Users\\PMLS\\AppData\\Local\\Programs\\Python\\Python310\\lib\\site-packages\\keras\\src\\engine\\training.py:1789\u001b[0m, in \u001b[0;36mModel.fit\u001b[1;34m(self, x, y, batch_size, epochs, verbose, callbacks, validation_split, validation_data, shuffle, class_weight, sample_weight, initial_epoch, steps_per_epoch, validation_steps, validation_batch_size, validation_freq, max_queue_size, workers, use_multiprocessing)\u001b[0m\n\u001b[0;32m   1787\u001b[0m logs \u001b[38;5;241m=\u001b[39m tmp_logs\n\u001b[0;32m   1788\u001b[0m end_step \u001b[38;5;241m=\u001b[39m step \u001b[38;5;241m+\u001b[39m data_handler\u001b[38;5;241m.\u001b[39mstep_increment\n\u001b[1;32m-> 1789\u001b[0m \u001b[43mcallbacks\u001b[49m\u001b[38;5;241;43m.\u001b[39;49m\u001b[43mon_train_batch_end\u001b[49m\u001b[43m(\u001b[49m\u001b[43mend_step\u001b[49m\u001b[43m,\u001b[49m\u001b[43m \u001b[49m\u001b[43mlogs\u001b[49m\u001b[43m)\u001b[49m\n\u001b[0;32m   1790\u001b[0m \u001b[38;5;28;01mif\u001b[39;00m \u001b[38;5;28mself\u001b[39m\u001b[38;5;241m.\u001b[39mstop_training:\n\u001b[0;32m   1791\u001b[0m     \u001b[38;5;28;01mbreak\u001b[39;00m\n",
      "File \u001b[1;32mc:\\Users\\PMLS\\AppData\\Local\\Programs\\Python\\Python310\\lib\\site-packages\\keras\\src\\callbacks.py:475\u001b[0m, in \u001b[0;36mCallbackList.on_train_batch_end\u001b[1;34m(self, batch, logs)\u001b[0m\n\u001b[0;32m    468\u001b[0m \u001b[38;5;250m\u001b[39m\u001b[38;5;124;03m\"\"\"Calls the `on_train_batch_end` methods of its callbacks.\u001b[39;00m\n\u001b[0;32m    469\u001b[0m \n\u001b[0;32m    470\u001b[0m \u001b[38;5;124;03mArgs:\u001b[39;00m\n\u001b[0;32m    471\u001b[0m \u001b[38;5;124;03m    batch: Integer, index of batch within the current epoch.\u001b[39;00m\n\u001b[0;32m    472\u001b[0m \u001b[38;5;124;03m    logs: Dict. Aggregated metric results up until this batch.\u001b[39;00m\n\u001b[0;32m    473\u001b[0m \u001b[38;5;124;03m\"\"\"\u001b[39;00m\n\u001b[0;32m    474\u001b[0m \u001b[38;5;28;01mif\u001b[39;00m \u001b[38;5;28mself\u001b[39m\u001b[38;5;241m.\u001b[39m_should_call_train_batch_hooks:\n\u001b[1;32m--> 475\u001b[0m     \u001b[38;5;28;43mself\u001b[39;49m\u001b[38;5;241;43m.\u001b[39;49m\u001b[43m_call_batch_hook\u001b[49m\u001b[43m(\u001b[49m\u001b[43mModeKeys\u001b[49m\u001b[38;5;241;43m.\u001b[39;49m\u001b[43mTRAIN\u001b[49m\u001b[43m,\u001b[49m\u001b[43m \u001b[49m\u001b[38;5;124;43m\"\u001b[39;49m\u001b[38;5;124;43mend\u001b[39;49m\u001b[38;5;124;43m\"\u001b[39;49m\u001b[43m,\u001b[49m\u001b[43m \u001b[49m\u001b[43mbatch\u001b[49m\u001b[43m,\u001b[49m\u001b[43m \u001b[49m\u001b[43mlogs\u001b[49m\u001b[38;5;241;43m=\u001b[39;49m\u001b[43mlogs\u001b[49m\u001b[43m)\u001b[49m\n",
      "File \u001b[1;32mc:\\Users\\PMLS\\AppData\\Local\\Programs\\Python\\Python310\\lib\\site-packages\\keras\\src\\callbacks.py:322\u001b[0m, in \u001b[0;36mCallbackList._call_batch_hook\u001b[1;34m(self, mode, hook, batch, logs)\u001b[0m\n\u001b[0;32m    320\u001b[0m     \u001b[38;5;28mself\u001b[39m\u001b[38;5;241m.\u001b[39m_call_batch_begin_hook(mode, batch, logs)\n\u001b[0;32m    321\u001b[0m \u001b[38;5;28;01melif\u001b[39;00m hook \u001b[38;5;241m==\u001b[39m \u001b[38;5;124m\"\u001b[39m\u001b[38;5;124mend\u001b[39m\u001b[38;5;124m\"\u001b[39m:\n\u001b[1;32m--> 322\u001b[0m     \u001b[38;5;28;43mself\u001b[39;49m\u001b[38;5;241;43m.\u001b[39;49m\u001b[43m_call_batch_end_hook\u001b[49m\u001b[43m(\u001b[49m\u001b[43mmode\u001b[49m\u001b[43m,\u001b[49m\u001b[43m \u001b[49m\u001b[43mbatch\u001b[49m\u001b[43m,\u001b[49m\u001b[43m \u001b[49m\u001b[43mlogs\u001b[49m\u001b[43m)\u001b[49m\n\u001b[0;32m    323\u001b[0m \u001b[38;5;28;01melse\u001b[39;00m:\n\u001b[0;32m    324\u001b[0m     \u001b[38;5;28;01mraise\u001b[39;00m \u001b[38;5;167;01mValueError\u001b[39;00m(\n\u001b[0;32m    325\u001b[0m         \u001b[38;5;124mf\u001b[39m\u001b[38;5;124m\"\u001b[39m\u001b[38;5;124mUnrecognized hook: \u001b[39m\u001b[38;5;132;01m{\u001b[39;00mhook\u001b[38;5;132;01m}\u001b[39;00m\u001b[38;5;124m. \u001b[39m\u001b[38;5;124m\"\u001b[39m\n\u001b[0;32m    326\u001b[0m         \u001b[38;5;124m'\u001b[39m\u001b[38;5;124mExpected values are [\u001b[39m\u001b[38;5;124m\"\u001b[39m\u001b[38;5;124mbegin\u001b[39m\u001b[38;5;124m\"\u001b[39m\u001b[38;5;124m, \u001b[39m\u001b[38;5;124m\"\u001b[39m\u001b[38;5;124mend\u001b[39m\u001b[38;5;124m\"\u001b[39m\u001b[38;5;124m]\u001b[39m\u001b[38;5;124m'\u001b[39m\n\u001b[0;32m    327\u001b[0m     )\n",
      "File \u001b[1;32mc:\\Users\\PMLS\\AppData\\Local\\Programs\\Python\\Python310\\lib\\site-packages\\keras\\src\\callbacks.py:345\u001b[0m, in \u001b[0;36mCallbackList._call_batch_end_hook\u001b[1;34m(self, mode, batch, logs)\u001b[0m\n\u001b[0;32m    342\u001b[0m     batch_time \u001b[38;5;241m=\u001b[39m time\u001b[38;5;241m.\u001b[39mtime() \u001b[38;5;241m-\u001b[39m \u001b[38;5;28mself\u001b[39m\u001b[38;5;241m.\u001b[39m_batch_start_time\n\u001b[0;32m    343\u001b[0m     \u001b[38;5;28mself\u001b[39m\u001b[38;5;241m.\u001b[39m_batch_times\u001b[38;5;241m.\u001b[39mappend(batch_time)\n\u001b[1;32m--> 345\u001b[0m \u001b[38;5;28;43mself\u001b[39;49m\u001b[38;5;241;43m.\u001b[39;49m\u001b[43m_call_batch_hook_helper\u001b[49m\u001b[43m(\u001b[49m\u001b[43mhook_name\u001b[49m\u001b[43m,\u001b[49m\u001b[43m \u001b[49m\u001b[43mbatch\u001b[49m\u001b[43m,\u001b[49m\u001b[43m \u001b[49m\u001b[43mlogs\u001b[49m\u001b[43m)\u001b[49m\n\u001b[0;32m    347\u001b[0m \u001b[38;5;28;01mif\u001b[39;00m \u001b[38;5;28mlen\u001b[39m(\u001b[38;5;28mself\u001b[39m\u001b[38;5;241m.\u001b[39m_batch_times) \u001b[38;5;241m>\u001b[39m\u001b[38;5;241m=\u001b[39m \u001b[38;5;28mself\u001b[39m\u001b[38;5;241m.\u001b[39m_num_batches_for_timing_check:\n\u001b[0;32m    348\u001b[0m     end_hook_name \u001b[38;5;241m=\u001b[39m hook_name\n",
      "File \u001b[1;32mc:\\Users\\PMLS\\AppData\\Local\\Programs\\Python\\Python310\\lib\\site-packages\\keras\\src\\callbacks.py:393\u001b[0m, in \u001b[0;36mCallbackList._call_batch_hook_helper\u001b[1;34m(self, hook_name, batch, logs)\u001b[0m\n\u001b[0;32m    391\u001b[0m \u001b[38;5;28;01mfor\u001b[39;00m callback \u001b[38;5;129;01min\u001b[39;00m \u001b[38;5;28mself\u001b[39m\u001b[38;5;241m.\u001b[39mcallbacks:\n\u001b[0;32m    392\u001b[0m     hook \u001b[38;5;241m=\u001b[39m \u001b[38;5;28mgetattr\u001b[39m(callback, hook_name)\n\u001b[1;32m--> 393\u001b[0m     \u001b[43mhook\u001b[49m\u001b[43m(\u001b[49m\u001b[43mbatch\u001b[49m\u001b[43m,\u001b[49m\u001b[43m \u001b[49m\u001b[43mlogs\u001b[49m\u001b[43m)\u001b[49m\n\u001b[0;32m    395\u001b[0m \u001b[38;5;28;01mif\u001b[39;00m \u001b[38;5;28mself\u001b[39m\u001b[38;5;241m.\u001b[39m_check_timing:\n\u001b[0;32m    396\u001b[0m     \u001b[38;5;28;01mif\u001b[39;00m hook_name \u001b[38;5;129;01mnot\u001b[39;00m \u001b[38;5;129;01min\u001b[39;00m \u001b[38;5;28mself\u001b[39m\u001b[38;5;241m.\u001b[39m_hook_times:\n",
      "File \u001b[1;32mc:\\Users\\PMLS\\AppData\\Local\\Programs\\Python\\Python310\\lib\\site-packages\\keras\\src\\callbacks.py:1093\u001b[0m, in \u001b[0;36mProgbarLogger.on_train_batch_end\u001b[1;34m(self, batch, logs)\u001b[0m\n\u001b[0;32m   1092\u001b[0m \u001b[38;5;28;01mdef\u001b[39;00m \u001b[38;5;21mon_train_batch_end\u001b[39m(\u001b[38;5;28mself\u001b[39m, batch, logs\u001b[38;5;241m=\u001b[39m\u001b[38;5;28;01mNone\u001b[39;00m):\n\u001b[1;32m-> 1093\u001b[0m     \u001b[38;5;28;43mself\u001b[39;49m\u001b[38;5;241;43m.\u001b[39;49m\u001b[43m_batch_update_progbar\u001b[49m\u001b[43m(\u001b[49m\u001b[43mbatch\u001b[49m\u001b[43m,\u001b[49m\u001b[43m \u001b[49m\u001b[43mlogs\u001b[49m\u001b[43m)\u001b[49m\n",
      "File \u001b[1;32mc:\\Users\\PMLS\\AppData\\Local\\Programs\\Python\\Python310\\lib\\site-packages\\keras\\src\\callbacks.py:1170\u001b[0m, in \u001b[0;36mProgbarLogger._batch_update_progbar\u001b[1;34m(self, batch, logs)\u001b[0m\n\u001b[0;32m   1167\u001b[0m \u001b[38;5;28;01mif\u001b[39;00m \u001b[38;5;28mself\u001b[39m\u001b[38;5;241m.\u001b[39mverbose \u001b[38;5;241m==\u001b[39m \u001b[38;5;241m1\u001b[39m:\n\u001b[0;32m   1168\u001b[0m     \u001b[38;5;66;03m# Only block async when verbose = 1.\u001b[39;00m\n\u001b[0;32m   1169\u001b[0m     logs \u001b[38;5;241m=\u001b[39m tf_utils\u001b[38;5;241m.\u001b[39msync_to_numpy_or_python_type(logs)\n\u001b[1;32m-> 1170\u001b[0m     \u001b[38;5;28;43mself\u001b[39;49m\u001b[38;5;241;43m.\u001b[39;49m\u001b[43mprogbar\u001b[49m\u001b[38;5;241;43m.\u001b[39;49m\u001b[43mupdate\u001b[49m\u001b[43m(\u001b[49m\u001b[38;5;28;43mself\u001b[39;49m\u001b[38;5;241;43m.\u001b[39;49m\u001b[43mseen\u001b[49m\u001b[43m,\u001b[49m\u001b[43m \u001b[49m\u001b[38;5;28;43mlist\u001b[39;49m\u001b[43m(\u001b[49m\u001b[43mlogs\u001b[49m\u001b[38;5;241;43m.\u001b[39;49m\u001b[43mitems\u001b[49m\u001b[43m(\u001b[49m\u001b[43m)\u001b[49m\u001b[43m)\u001b[49m\u001b[43m,\u001b[49m\u001b[43m \u001b[49m\u001b[43mfinalize\u001b[49m\u001b[38;5;241;43m=\u001b[39;49m\u001b[38;5;28;43;01mFalse\u001b[39;49;00m\u001b[43m)\u001b[49m\n",
      "File \u001b[1;32mc:\\Users\\PMLS\\AppData\\Local\\Programs\\Python\\Python310\\lib\\site-packages\\keras\\src\\utils\\generic_utils.py:296\u001b[0m, in \u001b[0;36mProgbar.update\u001b[1;34m(self, current, values, finalize)\u001b[0m\n\u001b[0;32m    293\u001b[0m         info \u001b[38;5;241m+\u001b[39m\u001b[38;5;241m=\u001b[39m \u001b[38;5;124m\"\u001b[39m\u001b[38;5;130;01m\\n\u001b[39;00m\u001b[38;5;124m\"\u001b[39m\n\u001b[0;32m    295\u001b[0m     message \u001b[38;5;241m+\u001b[39m\u001b[38;5;241m=\u001b[39m info\n\u001b[1;32m--> 296\u001b[0m     \u001b[43mio_utils\u001b[49m\u001b[38;5;241;43m.\u001b[39;49m\u001b[43mprint_msg\u001b[49m\u001b[43m(\u001b[49m\u001b[43mmessage\u001b[49m\u001b[43m,\u001b[49m\u001b[43m \u001b[49m\u001b[43mline_break\u001b[49m\u001b[38;5;241;43m=\u001b[39;49m\u001b[38;5;28;43;01mFalse\u001b[39;49;00m\u001b[43m)\u001b[49m\n\u001b[0;32m    297\u001b[0m     message \u001b[38;5;241m=\u001b[39m \u001b[38;5;124m\"\u001b[39m\u001b[38;5;124m\"\u001b[39m\n\u001b[0;32m    299\u001b[0m \u001b[38;5;28;01melif\u001b[39;00m \u001b[38;5;28mself\u001b[39m\u001b[38;5;241m.\u001b[39mverbose \u001b[38;5;241m==\u001b[39m \u001b[38;5;241m2\u001b[39m:\n",
      "File \u001b[1;32mc:\\Users\\PMLS\\AppData\\Local\\Programs\\Python\\Python310\\lib\\site-packages\\keras\\src\\utils\\io_utils.py:80\u001b[0m, in \u001b[0;36mprint_msg\u001b[1;34m(message, line_break)\u001b[0m\n\u001b[0;32m     78\u001b[0m         sys\u001b[38;5;241m.\u001b[39mstdout\u001b[38;5;241m.\u001b[39mwrite(message \u001b[38;5;241m+\u001b[39m \u001b[38;5;124m\"\u001b[39m\u001b[38;5;130;01m\\n\u001b[39;00m\u001b[38;5;124m\"\u001b[39m)\n\u001b[0;32m     79\u001b[0m     \u001b[38;5;28;01melse\u001b[39;00m:\n\u001b[1;32m---> 80\u001b[0m         \u001b[43msys\u001b[49m\u001b[38;5;241;43m.\u001b[39;49m\u001b[43mstdout\u001b[49m\u001b[38;5;241;43m.\u001b[39;49m\u001b[43mwrite\u001b[49m\u001b[43m(\u001b[49m\u001b[43mmessage\u001b[49m\u001b[43m)\u001b[49m\n\u001b[0;32m     81\u001b[0m     sys\u001b[38;5;241m.\u001b[39mstdout\u001b[38;5;241m.\u001b[39mflush()\n\u001b[0;32m     82\u001b[0m \u001b[38;5;28;01melse\u001b[39;00m:\n",
      "File \u001b[1;32mc:\\Users\\PMLS\\AppData\\Local\\Programs\\Python\\Python310\\lib\\site-packages\\ipykernel\\iostream.py:664\u001b[0m, in \u001b[0;36mOutStream.write\u001b[1;34m(self, string)\u001b[0m\n\u001b[0;32m    662\u001b[0m         \u001b[38;5;28mself\u001b[39m\u001b[38;5;241m.\u001b[39mpub_thread\u001b[38;5;241m.\u001b[39mschedule(\u001b[38;5;28mself\u001b[39m\u001b[38;5;241m.\u001b[39m_flush)\n\u001b[0;32m    663\u001b[0m     \u001b[38;5;28;01melse\u001b[39;00m:\n\u001b[1;32m--> 664\u001b[0m         \u001b[38;5;28;43mself\u001b[39;49m\u001b[38;5;241;43m.\u001b[39;49m\u001b[43m_schedule_flush\u001b[49m\u001b[43m(\u001b[49m\u001b[43m)\u001b[49m\n\u001b[0;32m    666\u001b[0m \u001b[38;5;28;01mreturn\u001b[39;00m \u001b[38;5;28mlen\u001b[39m(string)\n",
      "File \u001b[1;32mc:\\Users\\PMLS\\AppData\\Local\\Programs\\Python\\Python310\\lib\\site-packages\\ipykernel\\iostream.py:561\u001b[0m, in \u001b[0;36mOutStream._schedule_flush\u001b[1;34m(self)\u001b[0m\n\u001b[0;32m    558\u001b[0m \u001b[38;5;28;01mdef\u001b[39;00m \u001b[38;5;21m_schedule_in_thread\u001b[39m():\n\u001b[0;32m    559\u001b[0m     \u001b[38;5;28mself\u001b[39m\u001b[38;5;241m.\u001b[39m_io_loop\u001b[38;5;241m.\u001b[39mcall_later(\u001b[38;5;28mself\u001b[39m\u001b[38;5;241m.\u001b[39mflush_interval, \u001b[38;5;28mself\u001b[39m\u001b[38;5;241m.\u001b[39m_flush)\n\u001b[1;32m--> 561\u001b[0m \u001b[38;5;28;43mself\u001b[39;49m\u001b[38;5;241;43m.\u001b[39;49m\u001b[43mpub_thread\u001b[49m\u001b[38;5;241;43m.\u001b[39;49m\u001b[43mschedule\u001b[49m\u001b[43m(\u001b[49m\u001b[43m_schedule_in_thread\u001b[49m\u001b[43m)\u001b[49m\n",
      "File \u001b[1;32mc:\\Users\\PMLS\\AppData\\Local\\Programs\\Python\\Python310\\lib\\site-packages\\ipykernel\\iostream.py:267\u001b[0m, in \u001b[0;36mIOPubThread.schedule\u001b[1;34m(self, f)\u001b[0m\n\u001b[0;32m    265\u001b[0m     \u001b[38;5;28mself\u001b[39m\u001b[38;5;241m.\u001b[39m_events\u001b[38;5;241m.\u001b[39mappend(f)\n\u001b[0;32m    266\u001b[0m     \u001b[38;5;66;03m# wake event thread (message content is ignored)\u001b[39;00m\n\u001b[1;32m--> 267\u001b[0m     \u001b[38;5;28;43mself\u001b[39;49m\u001b[38;5;241;43m.\u001b[39;49m\u001b[43m_event_pipe\u001b[49m\u001b[38;5;241;43m.\u001b[39;49m\u001b[43msend\u001b[49m\u001b[43m(\u001b[49m\u001b[38;5;124;43mb\u001b[39;49m\u001b[38;5;124;43m\"\u001b[39;49m\u001b[38;5;124;43m\"\u001b[39;49m\u001b[43m)\u001b[49m\n\u001b[0;32m    268\u001b[0m \u001b[38;5;28;01melse\u001b[39;00m:\n\u001b[0;32m    269\u001b[0m     f()\n",
      "File \u001b[1;32mc:\\Users\\PMLS\\AppData\\Local\\Programs\\Python\\Python310\\lib\\site-packages\\zmq\\sugar\\socket.py:696\u001b[0m, in \u001b[0;36mSocket.send\u001b[1;34m(self, data, flags, copy, track, routing_id, group)\u001b[0m\n\u001b[0;32m    689\u001b[0m         data \u001b[38;5;241m=\u001b[39m zmq\u001b[38;5;241m.\u001b[39mFrame(\n\u001b[0;32m    690\u001b[0m             data,\n\u001b[0;32m    691\u001b[0m             track\u001b[38;5;241m=\u001b[39mtrack,\n\u001b[0;32m    692\u001b[0m             copy\u001b[38;5;241m=\u001b[39mcopy \u001b[38;5;129;01mor\u001b[39;00m \u001b[38;5;28;01mNone\u001b[39;00m,\n\u001b[0;32m    693\u001b[0m             copy_threshold\u001b[38;5;241m=\u001b[39m\u001b[38;5;28mself\u001b[39m\u001b[38;5;241m.\u001b[39mcopy_threshold,\n\u001b[0;32m    694\u001b[0m         )\n\u001b[0;32m    695\u001b[0m     data\u001b[38;5;241m.\u001b[39mgroup \u001b[38;5;241m=\u001b[39m group\n\u001b[1;32m--> 696\u001b[0m \u001b[38;5;28;01mreturn\u001b[39;00m \u001b[38;5;28;43msuper\u001b[39;49m\u001b[43m(\u001b[49m\u001b[43m)\u001b[49m\u001b[38;5;241;43m.\u001b[39;49m\u001b[43msend\u001b[49m\u001b[43m(\u001b[49m\u001b[43mdata\u001b[49m\u001b[43m,\u001b[49m\u001b[43m \u001b[49m\u001b[43mflags\u001b[49m\u001b[38;5;241;43m=\u001b[39;49m\u001b[43mflags\u001b[49m\u001b[43m,\u001b[49m\u001b[43m \u001b[49m\u001b[43mcopy\u001b[49m\u001b[38;5;241;43m=\u001b[39;49m\u001b[43mcopy\u001b[49m\u001b[43m,\u001b[49m\u001b[43m \u001b[49m\u001b[43mtrack\u001b[49m\u001b[38;5;241;43m=\u001b[39;49m\u001b[43mtrack\u001b[49m\u001b[43m)\u001b[49m\n",
      "File \u001b[1;32mzmq\\\\backend\\\\cython\\\\socket.pyx:742\u001b[0m, in \u001b[0;36mzmq.backend.cython.socket.Socket.send\u001b[1;34m()\u001b[0m\n",
      "File \u001b[1;32mzmq\\\\backend\\\\cython\\\\socket.pyx:789\u001b[0m, in \u001b[0;36mzmq.backend.cython.socket.Socket.send\u001b[1;34m()\u001b[0m\n",
      "File \u001b[1;32mzmq\\\\backend\\\\cython\\\\socket.pyx:250\u001b[0m, in \u001b[0;36mzmq.backend.cython.socket._send_copy\u001b[1;34m()\u001b[0m\n",
      "File \u001b[1;32mc:\\Users\\PMLS\\AppData\\Local\\Programs\\Python\\Python310\\lib\\site-packages\\zmq\\backend\\cython\\checkrc.pxd:13\u001b[0m, in \u001b[0;36mzmq.backend.cython.checkrc._check_rc\u001b[1;34m()\u001b[0m\n",
      "\u001b[1;31mKeyboardInterrupt\u001b[0m: "
     ]
    }
   ],
   "source": [
    "# Train the model\n",
    "history_1 = model1.fit(X_train, y_train, epochs=50, batch_size=32)"
   ]
  },
  {
   "cell_type": "code",
   "execution_count": null,
   "metadata": {},
   "outputs": [
    {
     "name": "stdout",
     "output_type": "stream",
     "text": [
      "Epoch 1/100\n",
      "325/325 [==============================] - 3s 6ms/step - loss: 0.6458 - accuracy: 0.3390\n",
      "Epoch 2/100\n",
      "325/325 [==============================] - 2s 5ms/step - loss: 0.6373 - accuracy: 0.3494\n",
      "Epoch 3/100\n",
      "325/325 [==============================] - 2s 5ms/step - loss: 0.6367 - accuracy: 0.3487\n",
      "Epoch 4/100\n",
      "325/325 [==============================] - 2s 7ms/step - loss: 0.6359 - accuracy: 0.3514\n",
      "Epoch 5/100\n",
      "325/325 [==============================] - 2s 5ms/step - loss: 0.6357 - accuracy: 0.3477\n",
      "Epoch 6/100\n",
      "325/325 [==============================] - 2s 6ms/step - loss: 0.6347 - accuracy: 0.3623\n",
      "Epoch 7/100\n",
      "325/325 [==============================] - 2s 5ms/step - loss: 0.6340 - accuracy: 0.3647\n",
      "Epoch 8/100\n",
      "325/325 [==============================] - 2s 6ms/step - loss: 0.6334 - accuracy: 0.3633\n",
      "Epoch 9/100\n",
      "325/325 [==============================] - 2s 5ms/step - loss: 0.6329 - accuracy: 0.3639\n",
      "Epoch 10/100\n",
      "325/325 [==============================] - 2s 7ms/step - loss: 0.6323 - accuracy: 0.3719\n",
      "Epoch 11/100\n",
      "325/325 [==============================] - 2s 6ms/step - loss: 0.6314 - accuracy: 0.3734\n",
      "Epoch 12/100\n",
      "325/325 [==============================] - 2s 6ms/step - loss: 0.6311 - accuracy: 0.3753\n",
      "Epoch 13/100\n",
      "325/325 [==============================] - 2s 6ms/step - loss: 0.6311 - accuracy: 0.3683\n",
      "Epoch 14/100\n",
      "325/325 [==============================] - 2s 5ms/step - loss: 0.6302 - accuracy: 0.3745\n",
      "Epoch 15/100\n",
      "325/325 [==============================] - 2s 5ms/step - loss: 0.6304 - accuracy: 0.3682\n",
      "Epoch 16/100\n",
      "325/325 [==============================] - 2s 6ms/step - loss: 0.6302 - accuracy: 0.3700\n",
      "Epoch 17/100\n",
      "325/325 [==============================] - 2s 6ms/step - loss: 0.6304 - accuracy: 0.3780\n",
      "Epoch 18/100\n",
      "325/325 [==============================] - 2s 6ms/step - loss: 0.6292 - accuracy: 0.3759\n",
      "Epoch 19/100\n",
      "325/325 [==============================] - 2s 6ms/step - loss: 0.6288 - accuracy: 0.3763\n",
      "Epoch 20/100\n",
      "325/325 [==============================] - 2s 6ms/step - loss: 0.6299 - accuracy: 0.3733\n",
      "Epoch 21/100\n",
      "325/325 [==============================] - 2s 6ms/step - loss: 0.6287 - accuracy: 0.3773\n",
      "Epoch 22/100\n",
      "325/325 [==============================] - 2s 6ms/step - loss: 0.6291 - accuracy: 0.3769\n",
      "Epoch 23/100\n",
      "325/325 [==============================] - 2s 6ms/step - loss: 0.6294 - accuracy: 0.3811\n",
      "Epoch 24/100\n",
      "325/325 [==============================] - 2s 6ms/step - loss: 0.6290 - accuracy: 0.3809\n",
      "Epoch 25/100\n",
      "325/325 [==============================] - 2s 5ms/step - loss: 0.6285 - accuracy: 0.3778\n",
      "Epoch 26/100\n",
      "325/325 [==============================] - 2s 6ms/step - loss: 0.6290 - accuracy: 0.3719\n",
      "Epoch 27/100\n",
      "325/325 [==============================] - 2s 5ms/step - loss: 0.6282 - accuracy: 0.3800\n",
      "Epoch 28/100\n",
      "325/325 [==============================] - 2s 6ms/step - loss: 0.6292 - accuracy: 0.3718\n",
      "Epoch 29/100\n",
      "325/325 [==============================] - 2s 6ms/step - loss: 0.6278 - accuracy: 0.3747\n",
      "Epoch 30/100\n",
      "325/325 [==============================] - 2s 6ms/step - loss: 0.6293 - accuracy: 0.3785\n",
      "Epoch 31/100\n",
      "325/325 [==============================] - 4s 13ms/step - loss: 0.6281 - accuracy: 0.3778\n",
      "Epoch 32/100\n",
      "325/325 [==============================] - 5s 15ms/step - loss: 0.6287 - accuracy: 0.3838\n",
      "Epoch 33/100\n",
      "325/325 [==============================] - 5s 16ms/step - loss: 0.6276 - accuracy: 0.3805\n",
      "Epoch 34/100\n",
      "325/325 [==============================] - 5s 16ms/step - loss: 0.6289 - accuracy: 0.3726\n",
      "Epoch 35/100\n",
      "325/325 [==============================] - 5s 15ms/step - loss: 0.6287 - accuracy: 0.3745\n",
      "Epoch 36/100\n",
      "325/325 [==============================] - 5s 15ms/step - loss: 0.6281 - accuracy: 0.3827\n",
      "Epoch 37/100\n",
      "325/325 [==============================] - 5s 15ms/step - loss: 0.6274 - accuracy: 0.3742\n",
      "Epoch 38/100\n",
      "325/325 [==============================] - 5s 15ms/step - loss: 0.6275 - accuracy: 0.3759\n",
      "Epoch 39/100\n",
      "325/325 [==============================] - 5s 15ms/step - loss: 0.6276 - accuracy: 0.3796\n",
      "Epoch 40/100\n",
      "325/325 [==============================] - 5s 15ms/step - loss: 0.6268 - accuracy: 0.3820\n",
      "Epoch 41/100\n",
      "325/325 [==============================] - 5s 15ms/step - loss: 0.6273 - accuracy: 0.3835\n",
      "Epoch 42/100\n",
      "325/325 [==============================] - 5s 16ms/step - loss: 0.6276 - accuracy: 0.3717\n",
      "Epoch 43/100\n",
      "325/325 [==============================] - 5s 15ms/step - loss: 0.6278 - accuracy: 0.3768\n",
      "Epoch 44/100\n",
      "325/325 [==============================] - 5s 15ms/step - loss: 0.6266 - accuracy: 0.3831\n",
      "Epoch 45/100\n",
      "325/325 [==============================] - 5s 15ms/step - loss: 0.6270 - accuracy: 0.3826\n",
      "Epoch 46/100\n",
      "325/325 [==============================] - 5s 17ms/step - loss: 0.6271 - accuracy: 0.3753\n",
      "Epoch 47/100\n",
      "325/325 [==============================] - 5s 16ms/step - loss: 0.6270 - accuracy: 0.3797\n",
      "Epoch 48/100\n",
      "325/325 [==============================] - 5s 16ms/step - loss: 0.6274 - accuracy: 0.3812\n",
      "Epoch 49/100\n",
      "325/325 [==============================] - 5s 16ms/step - loss: 0.6274 - accuracy: 0.3804\n",
      "Epoch 50/100\n",
      "325/325 [==============================] - 3s 10ms/step - loss: 0.6255 - accuracy: 0.3813\n",
      "Epoch 51/100\n",
      "325/325 [==============================] - 2s 7ms/step - loss: 0.6271 - accuracy: 0.3818\n",
      "Epoch 52/100\n",
      "325/325 [==============================] - 2s 5ms/step - loss: 0.6261 - accuracy: 0.3856\n",
      "Epoch 53/100\n",
      "325/325 [==============================] - 2s 6ms/step - loss: 0.6263 - accuracy: 0.3834\n",
      "Epoch 54/100\n",
      "325/325 [==============================] - 2s 5ms/step - loss: 0.6267 - accuracy: 0.3805\n",
      "Epoch 55/100\n",
      "325/325 [==============================] - 2s 6ms/step - loss: 0.6266 - accuracy: 0.3893\n",
      "Epoch 56/100\n",
      "325/325 [==============================] - 2s 6ms/step - loss: 0.6258 - accuracy: 0.3810\n",
      "Epoch 57/100\n",
      "325/325 [==============================] - 2s 5ms/step - loss: 0.6260 - accuracy: 0.3794\n",
      "Epoch 58/100\n",
      "325/325 [==============================] - 2s 5ms/step - loss: 0.6276 - accuracy: 0.3797\n",
      "Epoch 59/100\n",
      "325/325 [==============================] - 2s 5ms/step - loss: 0.6248 - accuracy: 0.3853\n",
      "Epoch 60/100\n",
      "325/325 [==============================] - 2s 6ms/step - loss: 0.6257 - accuracy: 0.3774\n",
      "Epoch 61/100\n",
      "325/325 [==============================] - 2s 6ms/step - loss: 0.6256 - accuracy: 0.3800\n",
      "Epoch 62/100\n",
      "325/325 [==============================] - 2s 5ms/step - loss: 0.6260 - accuracy: 0.3810\n",
      "Epoch 63/100\n",
      "325/325 [==============================] - 2s 6ms/step - loss: 0.6245 - accuracy: 0.3811\n",
      "Epoch 64/100\n",
      "325/325 [==============================] - 2s 5ms/step - loss: 0.6247 - accuracy: 0.3836\n",
      "Epoch 65/100\n",
      "325/325 [==============================] - 2s 5ms/step - loss: 0.6260 - accuracy: 0.3809\n",
      "Epoch 66/100\n",
      "325/325 [==============================] - 2s 6ms/step - loss: 0.6257 - accuracy: 0.3799\n",
      "Epoch 67/100\n",
      "325/325 [==============================] - 2s 5ms/step - loss: 0.6248 - accuracy: 0.3805\n",
      "Epoch 68/100\n",
      "325/325 [==============================] - 2s 5ms/step - loss: 0.6250 - accuracy: 0.3846\n",
      "Epoch 69/100\n",
      "325/325 [==============================] - 2s 6ms/step - loss: 0.6253 - accuracy: 0.3839\n",
      "Epoch 70/100\n",
      "325/325 [==============================] - 2s 5ms/step - loss: 0.6249 - accuracy: 0.3809\n",
      "Epoch 71/100\n",
      "325/325 [==============================] - 2s 5ms/step - loss: 0.6251 - accuracy: 0.3838\n",
      "Epoch 72/100\n",
      "325/325 [==============================] - 2s 6ms/step - loss: 0.6246 - accuracy: 0.3810\n",
      "Epoch 73/100\n",
      "325/325 [==============================] - 2s 5ms/step - loss: 0.6251 - accuracy: 0.3908\n",
      "Epoch 74/100\n",
      "325/325 [==============================] - 2s 5ms/step - loss: 0.6251 - accuracy: 0.3864\n",
      "Epoch 75/100\n",
      "325/325 [==============================] - 2s 6ms/step - loss: 0.6251 - accuracy: 0.3820\n",
      "Epoch 76/100\n",
      "325/325 [==============================] - 2s 5ms/step - loss: 0.6253 - accuracy: 0.3819\n",
      "Epoch 77/100\n",
      "325/325 [==============================] - 2s 6ms/step - loss: 0.6247 - accuracy: 0.3887\n",
      "Epoch 78/100\n",
      "325/325 [==============================] - 2s 7ms/step - loss: 0.6249 - accuracy: 0.3812\n",
      "Epoch 79/100\n",
      "325/325 [==============================] - 2s 6ms/step - loss: 0.6245 - accuracy: 0.3817\n",
      "Epoch 80/100\n",
      "325/325 [==============================] - 2s 5ms/step - loss: 0.6244 - accuracy: 0.3916\n",
      "Epoch 81/100\n",
      "325/325 [==============================] - 2s 6ms/step - loss: 0.6244 - accuracy: 0.3824\n",
      "Epoch 82/100\n",
      "325/325 [==============================] - 2s 5ms/step - loss: 0.6239 - accuracy: 0.3818\n",
      "Epoch 83/100\n",
      "325/325 [==============================] - 2s 5ms/step - loss: 0.6243 - accuracy: 0.3834\n",
      "Epoch 84/100\n",
      "325/325 [==============================] - 2s 6ms/step - loss: 0.6245 - accuracy: 0.3863\n",
      "Epoch 85/100\n",
      "325/325 [==============================] - 2s 6ms/step - loss: 0.6244 - accuracy: 0.3835\n",
      "Epoch 86/100\n",
      "325/325 [==============================] - 2s 5ms/step - loss: 0.6243 - accuracy: 0.3831\n",
      "Epoch 87/100\n",
      "325/325 [==============================] - 2s 6ms/step - loss: 0.6251 - accuracy: 0.3831\n",
      "Epoch 88/100\n",
      "325/325 [==============================] - 2s 5ms/step - loss: 0.6248 - accuracy: 0.3848\n",
      "Epoch 89/100\n",
      "325/325 [==============================] - 2s 6ms/step - loss: 0.6231 - accuracy: 0.3823\n",
      "Epoch 90/100\n",
      "325/325 [==============================] - 2s 5ms/step - loss: 0.6257 - accuracy: 0.3762\n",
      "Epoch 91/100\n",
      "325/325 [==============================] - 2s 5ms/step - loss: 0.6243 - accuracy: 0.3840\n",
      "Epoch 92/100\n",
      "325/325 [==============================] - 2s 5ms/step - loss: 0.6242 - accuracy: 0.3861\n",
      "Epoch 93/100\n",
      "325/325 [==============================] - 2s 6ms/step - loss: 0.6244 - accuracy: 0.3915\n",
      "Epoch 94/100\n",
      "325/325 [==============================] - 2s 6ms/step - loss: 0.6240 - accuracy: 0.3850\n",
      "Epoch 95/100\n",
      "325/325 [==============================] - 2s 5ms/step - loss: 0.6238 - accuracy: 0.3895\n",
      "Epoch 96/100\n",
      "325/325 [==============================] - 2s 6ms/step - loss: 0.6242 - accuracy: 0.3853\n",
      "Epoch 97/100\n",
      "325/325 [==============================] - 2s 6ms/step - loss: 0.6245 - accuracy: 0.3820\n",
      "Epoch 98/100\n",
      "325/325 [==============================] - 2s 5ms/step - loss: 0.6247 - accuracy: 0.3858\n",
      "Epoch 99/100\n",
      "325/325 [==============================] - 2s 6ms/step - loss: 0.6239 - accuracy: 0.3863\n",
      "Epoch 100/100\n",
      "325/325 [==============================] - 2s 6ms/step - loss: 0.6245 - accuracy: 0.3780\n"
     ]
    }
   ],
   "source": [
    "# Train the model\n",
    "history_2 = model2.fit(X_train, y_train, epochs=100, batch_size=32)"
   ]
  },
  {
   "cell_type": "code",
   "execution_count": null,
   "metadata": {},
   "outputs": [
    {
     "name": "stdout",
     "output_type": "stream",
     "text": [
      "82/82 [==============================] - 0s 4ms/step - loss: 2.2550 - accuracy: 0.5268\n",
      "Model 1: \n",
      " Test Loss: 2.2550482749938965, Test Accuracy: 0.5267616510391235\n",
      "82/82 [==============================] - 0s 3ms/step - loss: 0.6208 - accuracy: 0.3897\n",
      "Model 2: \n",
      " Test Loss: 0.6207541227340698, Test Accuracy: 0.3896803855895996\n"
     ]
    }
   ],
   "source": [
    "# Evaluate the model on the test set\n",
    "loss, accuracy = model1.evaluate(X_test, y_test)\n",
    "print(f'Model 1: \\n Test Loss: {loss}, Test Accuracy: {accuracy}')\n",
    "# Evaluate the model on the test set\n",
    "loss, accuracy = model2.evaluate(X_test, y_test)\n",
    "print(f'Model 2: \\n Test Loss: {loss}, Test Accuracy: {accuracy}')\n"
   ]
  },
  {
   "cell_type": "code",
   "execution_count": null,
   "metadata": {},
   "outputs": [
    {
     "name": "stdout",
     "output_type": "stream",
     "text": [
      "82/82 [==============================] - 0s 4ms/step\n",
      "82/82 [==============================] - 0s 4ms/step\n"
     ]
    }
   ],
   "source": [
    "# Predict the labels for the test set\n",
    "y_pred_1 = np.argmax(model1.predict(X_test), axis=-1)\n",
    "y_pred_2 = np.argmax(model2.predict(X_test), axis=-1)"
   ]
  },
  {
   "cell_type": "markdown",
   "metadata": {},
   "source": [
    "### Plotting the Confusion matrix"
   ]
  },
  {
   "cell_type": "code",
   "execution_count": null,
   "metadata": {},
   "outputs": [],
   "source": [
    "# Plot confusion matrix\n",
    "cm_1 = confusion_matrix(np.argmax(y_test, axis=-1), y_pred_1)\n",
    "cm_2 = confusion_matrix(np.argmax(y_test, axis=-1), y_pred_2)"
   ]
  },
  {
   "cell_type": "code",
   "execution_count": null,
   "metadata": {},
   "outputs": [
    {
     "data": {
      "image/png": "[encoded data removed]",
      "text/plain": [
       "<Figure size 2000x800 with 2 Axes>"
      ]
     },
     "metadata": {},
     "output_type": "display_data"
    }
   ],
   "source": [
    "# Plot confusion matrices side by side\n",
    "fig, axes = plt.subplots(1, 2, figsize=(20, 8))\n",
    "\n",
    "# Plot confusion matrix for model 1\n",
    "sns.heatmap(cm_1, annot=True, fmt='d', cmap='Blues', cbar=False, ax=axes[0])\n",
    "axes[0].set_xlabel('Predicted Labels')\n",
    "axes[0].set_ylabel('True Labels')\n",
    "axes[0].set_title('Confusion Matrix - Model 1')\n",
    "\n",
    "# Plot confusion matrix for model 2\n",
    "sns.heatmap(cm_2, annot=True, fmt='d', cmap='Blues', cbar=False, ax=axes[1])\n",
    "axes[1].set_xlabel('Predicted Labels')\n",
    "axes[1].set_ylabel('True Labels')\n",
    "axes[1].set_title('Confusion Matrix - Model 2')\n",
    "\n",
    "plt.tight_layout()\n",
    "plt.show()\n"
   ]
  },
  {
   "cell_type": "code",
   "execution_count": null,
   "metadata": {},
   "outputs": [],
   "source": []
  },
  {
   "cell_type": "code",
   "execution_count": null,
   "metadata": {},
   "outputs": [],
   "source": []
  }
 ],
 "metadata": {
  "kernelspec": {
   "display_name": "Python 3",
   "language": "python",
   "name": "python3"
  },
  "language_info": {
   "codemirror_mode": {
    "name": "ipython",
    "version": 3
   },
   "file_extension": ".py",
   "mimetype": "text/x-python",
   "name": "python",
   "nbconvert_exporter": "python",
   "pygments_lexer": "ipython3",
   "version": "3.10.6"
  }
 },
 "nbformat": 4,
 "nbformat_minor": 2
}
